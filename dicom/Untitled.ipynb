{
 "cells": [
  {
   "cell_type": "code",
   "execution_count": null,
   "id": "c6f137bd",
   "metadata": {},
   "outputs": [],
   "source": []
  },
  {
   "cell_type": "code",
   "execution_count": 2,
   "id": "7697317c",
   "metadata": {},
   "outputs": [
    {
     "name": "stderr",
     "output_type": "stream",
     "text": [
      "C:\\Users\\GN\\AppData\\Local\\Temp\\ipykernel_8844\\1344168506.py:2: DeprecationWarning: Please use `zoom` from the `scipy.ndimage` namespace, the `scipy.ndimage.interpolation` namespace is deprecated.\n",
      "  from scipy.ndimage.interpolation import zoom\n"
     ]
    },
    {
     "ename": "ImportError",
     "evalue": "cannot import name 'imsave' from 'scipy.misc' (C:\\Users\\GN\\anaconda3\\envs\\montest\\lib\\site-packages\\scipy\\misc\\__init__.py)",
     "output_type": "error",
     "traceback": [
      "\u001b[1;31m---------------------------------------------------------------------------\u001b[0m",
      "\u001b[1;31mImportError\u001b[0m                               Traceback (most recent call last)",
      "Cell \u001b[1;32mIn[2], line 3\u001b[0m\n\u001b[0;32m      1\u001b[0m \u001b[38;5;28;01mimport\u001b[39;00m \u001b[38;5;21;01mpydicom\u001b[39;00m\n\u001b[0;32m      2\u001b[0m \u001b[38;5;28;01mfrom\u001b[39;00m \u001b[38;5;21;01mscipy\u001b[39;00m\u001b[38;5;21;01m.\u001b[39;00m\u001b[38;5;21;01mndimage\u001b[39;00m\u001b[38;5;21;01m.\u001b[39;00m\u001b[38;5;21;01minterpolation\u001b[39;00m \u001b[38;5;28;01mimport\u001b[39;00m zoom\n\u001b[1;32m----> 3\u001b[0m \u001b[38;5;28;01mfrom\u001b[39;00m \u001b[38;5;21;01mscipy\u001b[39;00m\u001b[38;5;21;01m.\u001b[39;00m\u001b[38;5;21;01mmisc\u001b[39;00m \u001b[38;5;28;01mimport\u001b[39;00m imsave\n\u001b[0;32m      5\u001b[0m \u001b[38;5;28;01mdef\u001b[39;00m \u001b[38;5;21madd_gaussian_noise\u001b[39m(inp, expected_noise_ratio\u001b[38;5;241m=\u001b[39m\u001b[38;5;241m0.05\u001b[39m):\n\u001b[0;32m      6\u001b[0m         image \u001b[38;5;241m=\u001b[39m inp\u001b[38;5;241m.\u001b[39mcopy()\n",
      "\u001b[1;31mImportError\u001b[0m: cannot import name 'imsave' from 'scipy.misc' (C:\\Users\\GN\\anaconda3\\envs\\montest\\lib\\site-packages\\scipy\\misc\\__init__.py)"
     ]
    }
   ],
   "source": [
    "import pydicom\n",
    "from scipy.ndimage.interpolation import zoom\n",
    "from scipy.misc import imsave\n",
    "\n",
    "def add_gaussian_noise(inp, expected_noise_ratio=0.05):\n",
    "        image = inp.copy()\n",
    "        if len(image.shape) == 2:\n",
    "            row,col= image.shape\n",
    "            ch = 1\n",
    "        else:\n",
    "            row,col,ch= image.shape\n",
    "        mean = 0.\n",
    "        var = 0.1\n",
    "        sigma = var**0.5\n",
    "        gauss = np.random.normal(mean,sigma,(row,col)) * expected_noise_ratio\n",
    "        gauss = gauss.reshape(row,col)\n",
    "        noisy = image + gauss\n",
    "        return noisy\n",
    "def normalize(img):\n",
    "        arr = img.copy().astype(np.float)\n",
    "        M = np.float(np.max(img))\n",
    "        if M != 0:\n",
    "            arr *= 1./M\n",
    "        return arr\n",
    "def preprocess(filename, resize_ratio=0.25):\n",
    "    img = dicom.read_file(filename).pixel_array\n",
    "    img = normalize(zoom(img, resize_ratio))\n",
    "    img = add_gaussian_noise(img)\n",
    "    return img\n",
    "### filelist contains all *.dcm files from 3D IRCAD folder\n",
    "for dicom_file in filelist:\n",
    "    pp_image = preprocess(dicom_file)    \n",
    "    imsave(dicom_file.replace(\"dcm\",\"png\"), pp_image, \"png\")"
   ]
  },
  {
   "cell_type": "code",
   "execution_count": null,
   "id": "c9615825",
   "metadata": {},
   "outputs": [],
   "source": [
    "# Dice Coefficient to work with Tensorflow\n",
    "def dice_coef(y_true, y_pred):\n",
    "    y_true_f = K.flatten(y_true)\n",
    "    y_pred_f = K.flatten(y_pred)\n",
    "    intersection = K.sum(y_true_f * y_pred_f)\n",
    "    return (2. * intersection + smooth) / (K.sum(y_true_f) + K.sum(y_pred_f) + smooth)\n",
    "\n",
    "def dice_coef_loss(y_true, y_pred):\n",
    "    return -dice_coef(y_true, y_pred)\n",
    "\n",
    "# Dice Coefficient to work outside Tensorflow\n",
    "def dice_coef_2(y_true, y_pred):\n",
    "    side = len(y_true[0])\n",
    "    y_true_f = y_true.reshape(side*side)\n",
    "    y_pred_f = y_pred.reshape(side*side)\n",
    "    intersection = sum(y_true_f * y_pred_f)\n",
    "    return (2. * intersection + smooth) / (sum(y_true_f) + sum(y_pred_f) + smooth)"
   ]
  },
  {
   "cell_type": "code",
   "execution_count": null,
   "id": "88cca4be",
   "metadata": {},
   "outputs": [],
   "source": [
    "model = get_model(optimizer=Adam, loss_metric=dice_coef_loss, metrics=[dice_coef], lr=1e-3)"
   ]
  }
 ],
 "metadata": {
  "kernelspec": {
   "display_name": "Python 3 (ipykernel)",
   "language": "python",
   "name": "python3"
  },
  "language_info": {
   "codemirror_mode": {
    "name": "ipython",
    "version": 3
   },
   "file_extension": ".py",
   "mimetype": "text/x-python",
   "name": "python",
   "nbconvert_exporter": "python",
   "pygments_lexer": "ipython3",
   "version": "3.10.10"
  }
 },
 "nbformat": 4,
 "nbformat_minor": 5
}
