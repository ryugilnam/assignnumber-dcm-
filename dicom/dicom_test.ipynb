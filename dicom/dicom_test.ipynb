{
 "cells": [
  {
   "cell_type": "code",
   "execution_count": 1,
   "id": "9958ce15",
   "metadata": {},
   "outputs": [],
   "source": [
    "import os\n",
    "import numpy as np\n",
    "import pydicom as ds\n",
    "import pandas as pd\n",
    "import matplotlib\n",
    "from matplotlib import pyplot as plt\n",
    "from pydicom import dcmread, dcmwrite\n",
    "from pydicom.pixel_data_handlers.util import apply_color_lut\n",
    "import math, time"
   ]
  },
  {
   "cell_type": "code",
   "execution_count": 8,
   "id": "24ad9388",
   "metadata": {},
   "outputs": [],
   "source": [
    "# create Folder\n",
    "\n",
    "# def createFolder(directory):\n",
    "#     try:\n",
    "#         if not os.path.exists(directory):\n",
    "#             os.makedirs(directory)\n",
    "#     except OSError :\n",
    "#         print('Error : Creating directory' + directory)\n",
    "        \n",
    "# createFolder(\"C:/Users/GN/DICOM/result\")"
   ]
  },
  {
   "cell_type": "code",
   "execution_count": 9,
   "id": "837112bf",
   "metadata": {},
   "outputs": [],
   "source": [
    "# teeth labeling list\n",
    "\n",
    "teeth_lis=[[7,0,255,255],[255,15,0,255],[23,128,255,255],[128, 255,31,255],         #t1~t4\n",
    "           [64,39,128,255],[47,128,64,255],[128,64, 55,255],[0,255,63,255],         #t5~t8\n",
    "           [255,71,128,255],[79,0,255,255],[255,87,0,255],[95,128,255,255],         #t9~t12\n",
    "           [128,255,103, 255],[64,111,128,255],[119,128,64,255],[128,64,127,255],   #t13~t16\n",
    "           [0,255,135,255],[255,143,128,255],[151,0,255,255],[255,159,0,255],       #t17~t20\n",
    "           [167,128,255,255],[128,255,175,255],[64,183,128,255],[191,128,64,255],   #t21~t24\n",
    "           [128,64,199,255],[0,255,207,255],[255,215,128,255],[223,0,255,255],      #t25~t28\n",
    "           [255,231,0,255],[239,128,255,255],[128,255,247,255],[64,255,128,255]]    #t29~t32"
   ]
  },
  {
   "cell_type": "code",
   "execution_count": 13,
   "id": "011173ec",
   "metadata": {},
   "outputs": [
    {
     "name": "stdout",
     "output_type": "stream",
     "text": [
      "0\n",
      "1\n",
      "time :  71.55184388160706\n"
     ]
    }
   ],
   "source": [
    "start = time.time()\n",
    "\n",
    "# raw file load\n",
    "\n",
    "\n",
    "data_path = \"C:/Users/GN/DICOM/dicom data/\"\n",
    "dp = os.listdir(data_path)\n",
    "\n",
    "\n",
    "for O in range(len(os.listdir(data_path))) : \n",
    "\n",
    "    lbc_path = data_path + dp[O] + \"/Labeling/DCM/\"\n",
    "    lbc = os.listdir(lbc_path)[0]\n",
    "    \n",
    "    input_path = data_path + dp[O] + \"/raw/\"\n",
    "    output_path = data_path + dp[O] + \"/Preprocessed/\"\n",
    "\n",
    "    raw_dicom = dcmread(input_path + \"DCT0000.DCM\", stop_before_pixels = True)\n",
    "    raw_frames = len(os.listdir(input_path))\n",
    "    raw_Rows = raw_dicom.Rows\n",
    "    raw_Columns = raw_dicom.Columns\n",
    "\n",
    "    data = np.fromfile(lbc_path+lbc, dtype= 'uint8')\n",
    "    n_channels = 4\n",
    "    reshape_data = data.reshape(raw_frames, raw_Columns, raw_Rows, n_channels)\n",
    "    \n",
    "    #  teeth labeling\n",
    "\n",
    "    b=reshape_data[:,:,:,0] \n",
    "    g=reshape_data[:,:,:,1] \n",
    "    r=reshape_data[:,:,:,2] \n",
    "\n",
    "\n",
    "    for tl in range(len(teeth_lis)) : \n",
    "\n",
    "            bn = np.logical_and(b==teeth_lis[tl][0],g==teeth_lis[tl][1])\n",
    "            bn_x = np.logical_and(bn,r==teeth_lis[tl][2])\n",
    "            teeth_cd = np.where(bn_x)\n",
    "\n",
    "            reshape_data[teeth_cd[0],teeth_cd[1],teeth_cd[2]] = tl+1\n",
    "\n",
    "\n",
    "    slice_series = (reshape_data[:,:,:,0]+reshape_data[:,:,:,1]+reshape_data[:,:,:,2])/3\n",
    "\n",
    "\n",
    "    value = 84.33333333333333\n",
    "\n",
    "    # save data\n",
    "\n",
    "\n",
    "    for i in range(raw_frames) :\n",
    "\n",
    "        slice_series[i] = np.where(slice_series[i] == value, 0, slice_series[i])\n",
    "\n",
    "        n = '{0:04}'.format(i)\n",
    "        tmp = np.int16(slice_series[i,:,:])\n",
    "        t = tmp.tobytes()\n",
    "\n",
    "\n",
    "        raw_metainfo = ds.dcmread(raw_dicom_path + \"DCT\" + n + \".dcm\")\n",
    "        result_metainfo = raw_metainfo\n",
    "        result_metainfo.PixelData = t\n",
    "        result_metainfo.save_as(result_path + 'DCT'+ n +\".dcm\")\n",
    "\n",
    "    print(O)\n",
    "print(\"time : \", time.time() - start)   "
   ]
  },
  {
   "cell_type": "code",
   "execution_count": 18,
   "id": "c670b389",
   "metadata": {},
   "outputs": [
    {
     "data": {
      "text/plain": [
       "'C:/Users/GN/DICOM/dicom data/1 (8)/Labeling/DCM/450.lbc'"
      ]
     },
     "execution_count": 18,
     "metadata": {},
     "output_type": "execute_result"
    }
   ],
   "source": [
    "lbc_path + lbc"
   ]
  },
  {
   "cell_type": "code",
   "execution_count": 3,
   "id": "1c3321d7",
   "metadata": {},
   "outputs": [
    {
     "data": {
      "text/plain": [
       "['1 (5)', '1 (8)']"
      ]
     },
     "execution_count": 3,
     "metadata": {},
     "output_type": "execute_result"
    }
   ],
   "source": []
  },
  {
   "cell_type": "code",
   "execution_count": 4,
   "id": "3b2a6cc2",
   "metadata": {},
   "outputs": [],
   "source": [
    "# start = time.time()\n",
    "\n",
    "# # raw file load\n",
    "\n",
    "# lbc_path = \"C:/Users/GN/DICOM/sample/1 (8)/라벨링/DCM/450.lbc\"\n",
    "# raw_dicom_path = \"C:/Users/GN/DICOM/sample/1 (8)/원본/\"\n",
    "# result_path = \"C:/Users/GN/DICOM/result(8)/\"\n",
    "\n",
    "# raw_dicom = dcmread(raw_dicom_path + \"DCT0000.DCM\", stop_before_pixels = True)\n",
    "# raw_frames = len(os.listdir(raw_dicom_path))\n",
    "# raw_Rows = raw_dicom.Rows\n",
    "# raw_Columns = raw_dicom.Columns\n",
    "\n",
    "# data = np.fromfile(lbc_path, dtype= 'uint8')\n",
    "# n_channels = 4\n",
    "# reshape_data = data.reshape(raw_frames, raw_Columns, raw_Rows, n_channels)"
   ]
  },
  {
   "cell_type": "code",
   "execution_count": null,
   "id": "345f6abd",
   "metadata": {
    "scrolled": false
   },
   "outputs": [],
   "source": [
    "import os\n",
    "import numpy as np\n",
    "import pydicom as ds\n",
    "import pandas as pd\n",
    "import matplotlib\n",
    "from matplotlib import pyplot as plt\n",
    "from pydicom import dcmread, dcmwrite\n",
    "from pydicom.pixel_data_handlers.util import apply_color_lut\n",
    "import math, time\n",
    "\n",
    "\n",
    "\n",
    "# teeth labeling list\n",
    "\n",
    "teeth_lis=[[7,0,255,255],[255,15,0,255],[23,128,255,255],[128, 255,31,255],         #t1~t4\n",
    "           [64,39,128,255],[47,128,64,255],[128,64, 55,255],[0,255,63,255],         #t5~t8\n",
    "           [255,71,128,255],[79,0,255,255],[255,87,0,255],[95,128,255,255],         #t9~t12\n",
    "           [128,255,103, 255],[64,111,128,255],[119,128,64,255],[128,64,127,255],   #t13~t16\n",
    "           [0,255,135,255],[255,143,128,255],[151,0,255,255],[255,159,0,255],       #t17~t20\n",
    "           [167,128,255,255],[128,255,175,255],[64,183,128,255],[191,128,64,255],   #t21~t24\n",
    "           [128,64,199,255],[0,255,207,255],[255,215,128,255],[223,0,255,255],      #t25~t28\n",
    "           [255,231,0,255],[239,128,255,255],[128,255,247,255],[64,255,128,255]]    #t29~t32\n",
    "\n",
    "\n",
    "start = time.time()\n",
    "\n",
    "# raw file load\n",
    "\n",
    "\n",
    "path = \"C:/Users/GN/DICOM/dicom data/\"\n",
    "\n",
    "for k in range(len(os.listdir(path))) :\n",
    "\n",
    "    data = os.listdir(path)[k]\n",
    "\n",
    "    lbc_path = path + data + \"/Labeling/DCM/\"\n",
    "    lbc = os.listdir(lbc_path)[0]\n",
    "    lbc_path = lbc_path + lbc\n",
    "    \n",
    "    input_path = path + data + \"/raw/\"\n",
    "    output_path = path + data + \"/Preprocessed/\"\n",
    "\n",
    "\n",
    "    raw_dicom = dcmread(input_path + \"DCT0000.DCM\", stop_before_pixels = True)\n",
    "    raw_frames = len(os.listdir(input_path))\n",
    "    raw_Rows = raw_dicom.Rows\n",
    "    raw_Columns = raw_dicom.Columns\n",
    "\n",
    "    data = np.fromfile(lbc_path, dtype= 'uint8')\n",
    "    n_channels = 4\n",
    "    reshape_data = data.reshape(raw_frames, raw_Columns, raw_Rows, n_channels)\n",
    "\n",
    "\n",
    "    #  teeth labeling\n",
    "\n",
    "    b=reshape_data[:,:,:,0] \n",
    "    g=reshape_data[:,:,:,1] \n",
    "    r=reshape_data[:,:,:,2] \n",
    "\n",
    "\n",
    "    for tl in range(len(teeth_lis)) : \n",
    "        \n",
    "            bn = np.logical_and(b==teeth_lis[tl][0],g==teeth_lis[tl][1])\n",
    "            bn_x = np.logical_and(bn,r==teeth_lis[tl][2])\n",
    "            teeth_cd = np.where(bn_x)\n",
    "            \n",
    "            reshape_data[teeth_cd[0],teeth_cd[1],teeth_cd[2]] = tl+1\n",
    "             \n",
    "\n",
    "    slice_series = (reshape_data[:,:,:,0]+reshape_data[:,:,:,1]+reshape_data[:,:,:,2])/3\n",
    "\n",
    "\n",
    "    value = 84.33333333333333\n",
    "\n",
    "    # save data\n",
    "\n",
    "\n",
    "    for i in range(raw_frames) :\n",
    "        \n",
    "        slice_series[i] = np.where(slice_series[i] == value, 0, slice_series[i])\n",
    "        \n",
    "        n = '{0:04}'.format(i)\n",
    "        tmp = np.int16(slice_series[i,:,:])\n",
    "        t = tmp.tobytes()\n",
    "          \n",
    "        \n",
    "        raw_metainfo = ds.dcmread(input_path + \"DCT\" + n + \".dcm\")\n",
    "        result_metainfo = raw_metainfo\n",
    "        result_metainfo.PixelData = t\n",
    "        result_metainfo.save_as(routput_path + 'DCT'+ n +\".dcm\")\n",
    "        \n",
    "        \n",
    "    print(\"time : \", time.time() - start)   \n",
    "\n"
   ]
  },
  {
   "cell_type": "code",
   "execution_count": 14,
   "id": "dca0d829",
   "metadata": {},
   "outputs": [],
   "source": []
  },
  {
   "cell_type": "code",
   "execution_count": 16,
   "id": "7e285b47",
   "metadata": {},
   "outputs": [
    {
     "data": {
      "text/plain": [
       "2"
      ]
     },
     "execution_count": 16,
     "metadata": {},
     "output_type": "execute_result"
    }
   ],
   "source": []
  },
  {
   "cell_type": "code",
   "execution_count": null,
   "id": "7dabe3e0",
   "metadata": {},
   "outputs": [],
   "source": []
  }
 ],
 "metadata": {
  "kernelspec": {
   "display_name": "Python 3 (ipykernel)",
   "language": "python",
   "name": "python3"
  },
  "language_info": {
   "codemirror_mode": {
    "name": "ipython",
    "version": 3
   },
   "file_extension": ".py",
   "mimetype": "text/x-python",
   "name": "python",
   "nbconvert_exporter": "python",
   "pygments_lexer": "ipython3",
   "version": "3.10.10"
  }
 },
 "nbformat": 4,
 "nbformat_minor": 5
}
